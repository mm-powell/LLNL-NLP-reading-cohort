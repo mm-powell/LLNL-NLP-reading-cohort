{
 "cells": [
  {
   "cell_type": "markdown",
   "metadata": {},
   "source": [
    "# __Week 3__: Attention & Transformers\n",
    "***"
   ]
  },
  {
   "cell_type": "markdown",
   "metadata": {},
   "source": [
    "### Preliminaries:\n",
    "##### Sequence-to-Sequence Models\n",
    "* Takes a sequence of items (such as strings, images, etc.) and outputs another sequence of items\n",
    "    * For example, a __translation__ task: \"I am sad.\" --> \"Yo estoy triste.\""
   ]
  },
  {
   "cell_type": "code",
   "execution_count": 5,
   "metadata": {},
   "outputs": [],
   "source": [
    "from translate import Translator\n",
    "string = \"I am very excited to learn about mathematics and natural language.\""
   ]
  },
  {
   "cell_type": "code",
   "execution_count": 15,
   "metadata": {},
   "outputs": [],
   "source": [
    "# Spanish, German, Tagolog, Farsi, Urdu, Japanese\n",
    "langs = ['spanish', 'german', 'tl', 'fa', 'ur', 'ja']"
   ]
  },
  {
   "cell_type": "code",
   "execution_count": 16,
   "metadata": {},
   "outputs": [
    {
     "name": "stdout",
     "output_type": "stream",
     "text": [
      "Estoy muy emocionado de aprender matemáticas y lenguaje natural.\n",
      "Ich freue mich sehr, etwas über Mathematik und natürliche Sprache zu lernen.\n",
      "Labis akong nasasabik na malaman ang tungkol sa matematika at likas na wika.\n",
      "من بسیار مشتاق هستم که ریاضیات و زبان طبیعی را بیاموزم.\n",
      "MYMEMORY WARNING: YOU USED ALL AVAILABLE FREE TRANSLATIONS FOR TODAY. NEXT AVAILABLE IN  06 HOURS 31 MINUTES 13 SECONDSVISIT HTTPS://MYMEMORY.TRANSLATED.NET/DOC/USAGELIMITS.PHP TO TRANSLATE MORE\n",
      "MYMEMORY WARNING: YOU USED ALL AVAILABLE FREE TRANSLATIONS FOR TODAY. NEXT AVAILABLE IN  06 HOURS 31 MINUTES 12 SECONDSVISIT HTTPS://MYMEMORY.TRANSLATED.NET/DOC/USAGELIMITS.PHP TO TRANSLATE MORE\n"
     ]
    }
   ],
   "source": [
    "for lang in langs:\n",
    "    print(Translator(to_lang=lang).translate(string))"
   ]
  },
  {
   "cell_type": "markdown",
   "metadata": {},
   "source": [
    "* Sequence-to-sequence models consist of an __encoder__ and a __decoder__ (both of which are Neural Networks).\n",
    "    * The encoder processes each item in the input (turning it into a __context__ vector), then sends to to the decoder.\n",
    "        * The encoder is a recurrent neural network (RNN), which takes at each step an input and a __hidden state__. \n",
    "        * The last hidden state of the encoder is passed to the decoder as a context. \n",
    "    * The decoder then begins processing the output item by item.\n",
    "        * The decoder also maintains hidden states processed at each step."
   ]
  },
  {
   "cell_type": "markdown",
   "metadata": {},
   "source": [
    "## Attention\n",
    "* Sequence-to-sequence models tend to struggle with longer sentences.\n",
    "* Attention allows for the model to focus on relevant parts of the sequence as needed.\n",
    "    * Attention models pass all hidden states to the decoder, as opposed to only the last hidden state like in sequence-to-sequence models. \n",
    "    * Each hidden state is then associated with a specific item within an input and scored to amplify hidden states with high scores and drown out those with low scores."
   ]
  },
  {
   "cell_type": "code",
   "execution_count": null,
   "metadata": {},
   "outputs": [],
   "source": []
  },
  {
   "cell_type": "markdown",
   "metadata": {},
   "source": [
    "***"
   ]
  },
  {
   "cell_type": "markdown",
   "metadata": {},
   "source": [
    "## Transformers\n",
    "* Transformers are used to "
   ]
  },
  {
   "cell_type": "code",
   "execution_count": null,
   "metadata": {},
   "outputs": [],
   "source": []
  },
  {
   "cell_type": "code",
   "execution_count": null,
   "metadata": {},
   "outputs": [],
   "source": []
  },
  {
   "cell_type": "markdown",
   "metadata": {},
   "source": [
    "## Sources:\n",
    "[1] https://jalammar.github.io/visualizing-neural-machine-translation-mechanics-of-seq2seq-models-with-attention/ <br>\n",
    "[2] https://jalammar.github.io/illustrated-transformer/ <br>\n",
    "[3] https://nlp.seas.harvard.edu/2018/04/03/attention.html <br>\n",
    "[4] https://github.com/terryyin/translate-python"
   ]
  },
  {
   "cell_type": "code",
   "execution_count": null,
   "metadata": {},
   "outputs": [],
   "source": []
  }
 ],
 "metadata": {
  "kernelspec": {
   "display_name": "Python 3",
   "language": "python",
   "name": "python3"
  },
  "language_info": {
   "codemirror_mode": {
    "name": "ipython",
    "version": 3
   },
   "file_extension": ".py",
   "mimetype": "text/x-python",
   "name": "python",
   "nbconvert_exporter": "python",
   "pygments_lexer": "ipython3",
   "version": "3.7.6"
  }
 },
 "nbformat": 4,
 "nbformat_minor": 4
}
